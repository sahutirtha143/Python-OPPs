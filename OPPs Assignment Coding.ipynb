{
 "cells": [
  {
   "cell_type": "code",
   "execution_count": null,
   "id": "d5f40c46-3dd5-4ed7-b5b2-3c29345623ba",
   "metadata": {},
   "outputs": [],
   "source": [
    "#OOPS Practical Questions Assignment"
   ]
  },
  {
   "cell_type": "code",
   "execution_count": 1,
   "id": "e2aeb362-0e29-4197-b497-afd47ddf38aa",
   "metadata": {},
   "outputs": [
    {
     "name": "stdout",
     "output_type": "stream",
     "text": [
      "The animal makes a sound.\n",
      "Bark!\n"
     ]
    }
   ],
   "source": [
    "# 1. Create a parent class Animal with a method speak() that prints a generic message. Create a child class Dog \n",
    "#that overrides the speak() method to print \"Bark!\".\n",
    "\n",
    "# Parent class\n",
    "class Animal:\n",
    "    def speak(self):\n",
    "        print(\"The animal makes a sound.\")\n",
    "\n",
    "# Child class\n",
    "class Dog(Animal):\n",
    "    def speak(self):\n",
    "        print(\"Bark!\")\n",
    "\n",
    "a = Animal()\n",
    "a.speak()  \n",
    "d = Dog()\n",
    "d.speak() \n"
   ]
  },
  {
   "cell_type": "code",
   "execution_count": 2,
   "id": "c29b45e9-35fd-4e31-adc0-a85aac182e00",
   "metadata": {},
   "outputs": [
    {
     "name": "stdout",
     "output_type": "stream",
     "text": [
      "Area of Circle: 78.53981633974483\n",
      "Area of Rectangle: 24\n"
     ]
    }
   ],
   "source": [
    "# 2. Write a program to create an abstract class Shape with a method area(). Derive classes Circle and Rectangle \n",
    " #from it and implement the area() method in both.\n",
    "\n",
    "from abc import ABC, abstractmethod\n",
    "import math\n",
    "\n",
    "# Abstract class\n",
    "class Shape(ABC):\n",
    "    \n",
    "    @abstractmethod\n",
    "    def area(self):\n",
    "        pass\n",
    "\n",
    "# Derived class - Circle\n",
    "class Circle(Shape):\n",
    "    def __init__(self, radius):\n",
    "        self.radius = radius\n",
    "\n",
    "    def area(self):\n",
    "        return math.pi * self.radius * self.radius\n",
    "\n",
    "# Derived class - Rectangle\n",
    "class Rectangle(Shape):\n",
    "    def __init__(self, width, height):\n",
    "        self.width = width\n",
    "        self.height = height\n",
    "\n",
    "    def area(self):\n",
    "        return self.width * self.height\n",
    "\n",
    "# Example usage\n",
    "c = Circle(5)\n",
    "print(\"Area of Circle:\", c.area())\n",
    "\n",
    "r = Rectangle(4, 6)\n",
    "print(\"Area of Rectangle:\", r.area())\n"
   ]
  },
  {
   "cell_type": "code",
   "execution_count": 3,
   "id": "3733dae4-7c14-46a5-8d50-2a229d4e1698",
   "metadata": {},
   "outputs": [
    {
     "name": "stdout",
     "output_type": "stream",
     "text": [
      "Vehicle Type: Four Wheeler\n",
      "Car Brand: Tesla\n",
      "Battery Capacity: 100 kWh\n"
     ]
    }
   ],
   "source": [
    "# 3. Implement a multi-level inheritance scenario where a class Vehicle has an attribute type. Derive a class Car \n",
    " #and further derive a class ElectricCar that adds a battery attribute.\n",
    "\n",
    "class Vehicle:\n",
    "    def __init__(self, vehicle_type):\n",
    "        self.vehicle_type = vehicle_type\n",
    "\n",
    "    def show_type(self):\n",
    "        print(\"Vehicle Type:\", self.vehicle_type)\n",
    "\n",
    "class Car(Vehicle):\n",
    "    def __init__(self, vehicle_type, brand):\n",
    "        super().__init__(vehicle_type)\n",
    "        self.brand = brand\n",
    "\n",
    "    def show_brand(self):\n",
    "        print(\"Car Brand:\", self.brand)\n",
    "\n",
    "class ElectricCar(Car):\n",
    "    def __init__(self, vehicle_type, brand, battery):\n",
    "        super().__init__(vehicle_type, brand)\n",
    "        self.battery = battery\n",
    "\n",
    "    def show_battery(self):\n",
    "        print(\"Battery Capacity:\", self.battery)\n",
    "\n",
    "ecar = ElectricCar(\"Four Wheeler\", \"Tesla\", \"100 kWh\")\n",
    "ecar.show_type()\n",
    "ecar.show_brand()\n",
    "ecar.show_battery()\n"
   ]
  },
  {
   "cell_type": "code",
   "execution_count": 4,
   "id": "79d7ac13-fdf5-4eaa-83b1-dfdd3c4977fe",
   "metadata": {},
   "outputs": [
    {
     "name": "stdout",
     "output_type": "stream",
     "text": [
      "Sparrow flies high in the sky.\n",
      "Penguins can't fly, but they swim well.\n"
     ]
    }
   ],
   "source": [
    "#4. Demonstrate polymorphism by creating a base class Bird with a method fly(). Create two derived classes \n",
    " #Sparrow and Penguin that override the fly() method. \n",
    "\n",
    "class Bird:\n",
    "    def fly(self):\n",
    "        print(\"Bird is flying.\")\n",
    "\n",
    "class Sparrow(Bird):\n",
    "    def fly(self):\n",
    "        print(\"Sparrow flies high in the sky.\")\n",
    "\n",
    "class Penguin(Bird):\n",
    "    def fly(self):\n",
    "        print(\"Penguins can't fly, but they swim well.\")\n",
    "\n",
    "def bird_flight(bird):\n",
    "    bird.fly()\n",
    "\n",
    "b1 = Sparrow()\n",
    "b2 = Penguin()\n",
    "\n",
    "bird_flight(b1)  \n",
    "bird_flight(b2) \n"
   ]
  },
  {
   "cell_type": "code",
   "execution_count": 5,
   "id": "c580d6cf-db03-40fe-8863-59543c5cb734",
   "metadata": {},
   "outputs": [
    {
     "name": "stdout",
     "output_type": "stream",
     "text": [
      "Current Balance: 1000\n",
      "Deposited: 500\n",
      "Withdrawn: 300\n",
      "Current Balance: 1200\n"
     ]
    }
   ],
   "source": [
    "#5. Write a program to demonstrate encapsulation by creating a class BankAccount with private attributes \n",
    "  #balance and methods to deposit, withdraw, and check balance.\n",
    "\n",
    "class BankAccount:\n",
    "    def __init__(self, initial_balance=0):\n",
    "        self.__balance = initial_balance  # private attribute\n",
    "\n",
    "    def deposit(self, amount):\n",
    "        if amount > 0:\n",
    "            self.__balance += amount\n",
    "            print(f\"Deposited: {amount}\")\n",
    "        else:\n",
    "            print(\"Deposit amount must be positive.\")\n",
    "\n",
    "    def withdraw(self, amount):\n",
    "        if 0 < amount <= self.__balance:\n",
    "            self.__balance -= amount\n",
    "            print(f\"Withdrawn: {amount}\")\n",
    "        else:\n",
    "            print(\"Insufficient balance or invalid amount.\")\n",
    "\n",
    "    def check_balance(self):\n",
    "        print(f\"Current Balance: {self.__balance}\")\n",
    "\n",
    "account = BankAccount(1000)\n",
    "account.check_balance()      # Output: Current Balance: 1000\n",
    "account.deposit(500)         # Output: Deposited: 500\n",
    "account.withdraw(300)        # Output: Withdrawn: 300\n",
    "account.check_balance()      # Output: Current Balance: 1200\n",
    "\n"
   ]
  },
  {
   "cell_type": "code",
   "execution_count": 6,
   "id": "590eabd8-e072-4b6b-bec0-e9bcfee19c69",
   "metadata": {},
   "outputs": [
    {
     "name": "stdout",
     "output_type": "stream",
     "text": [
      "Strumming the guitar.\n",
      "Playing the piano keys.\n"
     ]
    }
   ],
   "source": [
    "#6. Demonstrate runtime polymorphism using a method play() in a base class Instrument. Derive classes Guitar \n",
    "  #and Piano that implement their own version of play()\n",
    "\n",
    "class Instrument:\n",
    "    def play(self):\n",
    "        print(\"Instrument is playing.\")\n",
    "\n",
    "class Guitar(Instrument):\n",
    "    def play(self):\n",
    "        print(\"Strumming the guitar.\")\n",
    "\n",
    "class Piano(Instrument):\n",
    "    def play(self):\n",
    "        print(\"Playing the piano keys.\")\n",
    "\n",
    "def perform(instrument):\n",
    "    instrument.play()\n",
    "\n",
    "inst1 = Guitar()\n",
    "inst2 = Piano()\n",
    "\n",
    "perform(inst1)  \n",
    "perform(inst2)  \n"
   ]
  },
  {
   "cell_type": "code",
   "execution_count": 7,
   "id": "4d877c28-55f8-4aa8-b85d-9f552199532b",
   "metadata": {},
   "outputs": [
    {
     "name": "stdout",
     "output_type": "stream",
     "text": [
      "Sum: 15\n",
      "Difference: 5\n"
     ]
    }
   ],
   "source": [
    "#7. Create a class MathOperations with a class method add_numbers() to add two numbers and a static \n",
    "  #method subtract_numbers() to subtract two numbers\n",
    "\n",
    "class MathOperations:\n",
    "    \n",
    "    @classmethod\n",
    "    def add_numbers(cls, a, b):\n",
    "        return a + b\n",
    "\n",
    "    @staticmethod\n",
    "    def subtract_numbers(a, b):\n",
    "        return a - b\n",
    "\n",
    "sum_result = MathOperations.add_numbers(10, 5)\n",
    "print(\"Sum:\", sum_result)  \n",
    "\n",
    "diff_result = MathOperations.subtract_numbers(10, 5)\n",
    "print(\"Difference:\", diff_result) \n"
   ]
  },
  {
   "cell_type": "code",
   "execution_count": 8,
   "id": "c4505152-16d4-40a3-b38e-9fc97792026a",
   "metadata": {},
   "outputs": [
    {
     "name": "stdout",
     "output_type": "stream",
     "text": [
      "Total Persons Created: 3\n"
     ]
    }
   ],
   "source": [
    "#8. Implement a class Person with a class method to count the total number of persons created\n",
    "\n",
    "class Person:\n",
    "    count = 0 \n",
    "\n",
    "    def __init__(self, name):\n",
    "        self.name = name\n",
    "        Person.count += 1 \n",
    "\n",
    "    @classmethod\n",
    "    def get_person_count(cls):\n",
    "        return cls.count\n",
    "\n",
    "p1 = Person(\"Alice\")\n",
    "p2 = Person(\"Bob\")\n",
    "p3 = Person(\"Charlie\")\n",
    "\n",
    "print(\"Total Persons Created:\", Person.get_person_count())  \n"
   ]
  },
  {
   "cell_type": "code",
   "execution_count": 9,
   "id": "72944101-5643-49f3-be59-d4c120b302a1",
   "metadata": {},
   "outputs": [
    {
     "name": "stdout",
     "output_type": "stream",
     "text": [
      "Fraction 1: 3/4\n",
      "Fraction 2: 7/2\n"
     ]
    }
   ],
   "source": [
    "# 9. Write a class Fraction with attributes numerator and denominator. Override the str method to display the \n",
    " #fraction as \"numerator/denominator\".\n",
    "\n",
    "class Fraction:\n",
    "    def __init__(self, numerator, denominator):\n",
    "        self.numerator = numerator\n",
    "        self.denominator = denominator\n",
    "\n",
    "    def __str__(self):\n",
    "        return f\"{self.numerator}/{self.denominator}\"\n",
    "\n",
    "f1 = Fraction(3, 4)\n",
    "f2 = Fraction(7, 2)\n",
    "\n",
    "print(\"Fraction 1:\", f1)  # Output: 3/4\n",
    "print(\"Fraction 2:\", f2)  # Output: 7/2\n"
   ]
  },
  {
   "cell_type": "code",
   "execution_count": 10,
   "id": "012d2cba-fc6f-4a95-b030-aff3133aa286",
   "metadata": {},
   "outputs": [
    {
     "name": "stdout",
     "output_type": "stream",
     "text": [
      "Vector 1: Vector(2, 3)\n",
      "Vector 2: Vector(4, 5)\n",
      "Sum Vector: Vector(6, 8)\n"
     ]
    }
   ],
   "source": [
    "# 10. Demonstrate operator overloading by creating a class Vector and overriding the add method to add two vectors.\n",
    "\n",
    "class Vector:\n",
    "    def __init__(self, x, y):\n",
    "        self.x = x\n",
    "        self.y = y\n",
    "\n",
    "    def __add__(self, other):\n",
    "        return Vector(self.x + other.x, self.y + other.y)\n",
    "\n",
    "    def __str__(self):\n",
    "        return f\"Vector({self.x}, {self.y})\"\n",
    "\n",
    "v1 = Vector(2, 3)\n",
    "v2 = Vector(4, 5)\n",
    "v3 = v1 + v2  \n",
    "\n",
    "print(\"Vector 1:\", v1)  \n",
    "print(\"Vector 2:\", v2) \n",
    "print(\"Sum Vector:\", v3) "
   ]
  },
  {
   "cell_type": "code",
   "execution_count": 11,
   "id": "849f903c-58e5-49eb-9b2d-af769c4b99f3",
   "metadata": {},
   "outputs": [
    {
     "name": "stdout",
     "output_type": "stream",
     "text": [
      "Hello, my name is Alice and I am 30 years old.\n",
      "Hello, my name is Bob and I am 25 years old.\n"
     ]
    }
   ],
   "source": [
    "# 11. Create a class Person with attributes name and age. Add a method greet() that prints \"Hello, my name is \n",
    " #{name} and I am {age} years old.\"\n",
    "\n",
    "class Person:\n",
    "    def __init__(self, name, age):\n",
    "        self.name = name\n",
    "        self.age = age\n",
    "\n",
    "    def greet(self):\n",
    "        print(f\"Hello, my name is {self.name} and I am {self.age} years old.\")\n",
    "\n",
    "\n",
    "p1 = Person(\"Alice\", 30)\n",
    "p2 = Person(\"Bob\", 25)\n",
    "\n",
    "p1.greet()\n",
    "p2.greet()  \n"
   ]
  },
  {
   "cell_type": "code",
   "execution_count": 12,
   "id": "3ebb47de-ccb3-437e-92a2-c894aaf0a9be",
   "metadata": {},
   "outputs": [
    {
     "name": "stdout",
     "output_type": "stream",
     "text": [
      "Alice's average grade: 86.25\n",
      "Bob's average grade: 87.33333333333333\n"
     ]
    }
   ],
   "source": [
    "# 12. Implement a class Student with attributes name and grades. Create a method average_grade() to compute the average of the grades.\n",
    "\n",
    "class Student:\n",
    "    def __init__(self, name, grades):\n",
    "        self.name = name\n",
    "        self.grades = grades  \n",
    "    def average_grade(self):\n",
    "        if len(self.grades) > 0:\n",
    "            return sum(self.grades) / len(self.grades)\n",
    "        else:\n",
    "            return 0 \n",
    "\n",
    "student1 = Student(\"Alice\", [85, 90, 78, 92])\n",
    "student2 = Student(\"Bob\", [88, 79, 95])\n",
    "\n",
    "print(f\"{student1.name}'s average grade: {student1.average_grade()}\")  \n",
    "print(f\"{student2.name}'s average grade: {student2.average_grade()}\") \n"
   ]
  },
  {
   "cell_type": "code",
   "execution_count": 13,
   "id": "0f5390ce-6bda-4200-9d45-81c359b87847",
   "metadata": {},
   "outputs": [
    {
     "name": "stdout",
     "output_type": "stream",
     "text": [
      "Area of Rectangle: 15\n"
     ]
    }
   ],
   "source": [
    "# 13. Create a class Rectangle with methods set_dimensions() to set the dimensions and area() to calculate the area.\n",
    "\n",
    "class Rectangle:\n",
    "    def __init__(self):\n",
    "        self.length = 0\n",
    "        self.width = 0\n",
    "\n",
    "    def set_dimensions(self, length, width):\n",
    "        self.length = length\n",
    "        self.width = width\n",
    "\n",
    "    def area(self):\n",
    "        return self.length * self.width\n",
    "\n",
    "rect = Rectangle()\n",
    "rect.set_dimensions(5, 3)  \n",
    "print(\"Area of Rectangle:\", rect.area()) "
   ]
  },
  {
   "cell_type": "code",
   "execution_count": 14,
   "id": "02b20c05-6618-46f3-98e1-5fedc9972408",
   "metadata": {},
   "outputs": [
    {
     "name": "stdout",
     "output_type": "stream",
     "text": [
      "Alice's salary: $800\n",
      "Bob's salary: $1500\n"
     ]
    }
   ],
   "source": [
    "# 14. Create a class Employee with a method calculate_salary() that computes the salary based on hours worked \n",
    " #and hourly rate. Create a derived class Manager that adds a bonus to the salary.\n",
    "\n",
    "class Employee:\n",
    "    def __init__(self, name, hours_worked, hourly_rate):\n",
    "        self.name = name\n",
    "        self.hours_worked = hours_worked\n",
    "        self.hourly_rate = hourly_rate\n",
    "\n",
    "    def calculate_salary(self):\n",
    "        return self.hours_worked * self.hourly_rate\n",
    "\n",
    "class Manager(Employee):\n",
    "    def __init__(self, name, hours_worked, hourly_rate, bonus):\n",
    "        super().__init__(name, hours_worked, hourly_rate)\n",
    "        self.bonus = bonus\n",
    "\n",
    "    def calculate_salary(self):\n",
    "        base_salary = super().calculate_salary()\n",
    "        return base_salary + self.bonus\n",
    "\n",
    "employee = Employee(\"Alice\", 40, 20)  \n",
    "manager = Manager(\"Bob\", 40, 25, 500) \n",
    "\n",
    "print(f\"{employee.name}'s salary: ${employee.calculate_salary()}\") \n",
    "print(f\"{manager.name}'s salary: ${manager.calculate_salary()}\") \n"
   ]
  },
  {
   "cell_type": "code",
   "execution_count": 15,
   "id": "ce23c7e9-b853-4a23-8718-48df81854207",
   "metadata": {},
   "outputs": [
    {
     "name": "stdout",
     "output_type": "stream",
     "text": [
      "Total price of Laptop: $3000\n",
      "Total price of Smartphone: $2500\n"
     ]
    }
   ],
   "source": [
    "#15. Create a class Product with attributes name, price, and quantity. Implement a method total_price() that \n",
    "  #calculates the total price of the product.\n",
    "\n",
    "class Product:\n",
    "    def __init__(self, name, price, quantity):\n",
    "        self.name = name\n",
    "        self.price = price\n",
    "        self.quantity = quantity\n",
    "\n",
    "    def total_price(self):\n",
    "        return self.price * self.quantity\n",
    "\n",
    "product1 = Product(\"Laptop\", 1000, 3)\n",
    "product2 = Product(\"Smartphone\", 500, 5)\n",
    "\n",
    "print(f\"Total price of {product1.name}: ${product1.total_price()}\")  \n",
    "print(f\"Total price of {product2.name}: ${product2.total_price()}\") \n"
   ]
  },
  {
   "cell_type": "code",
   "execution_count": 16,
   "id": "401ab222-9d59-4abd-b3c2-b5b4767060b8",
   "metadata": {},
   "outputs": [
    {
     "name": "stdout",
     "output_type": "stream",
     "text": [
      "Cow says: Moo!\n",
      "Sheep says: Baa!\n"
     ]
    }
   ],
   "source": [
    "# 16. Create a class Animal with an abstract method sound(). Create two derived classes Cow and Sheep that implement the sound() method.\n",
    "\n",
    "from abc import ABC, abstractmethod\n",
    "\n",
    "class Animal(ABC):\n",
    "    @abstractmethod\n",
    "    def sound(self):\n",
    "        pass\n",
    "\n",
    "class Cow(Animal):\n",
    "    def sound(self):\n",
    "        return \"Moo!\"\n",
    "\n",
    "class Sheep(Animal):\n",
    "    def sound(self):\n",
    "        return \"Baa!\"\n",
    "\n",
    "cow = Cow()\n",
    "sheep = Sheep()\n",
    "\n",
    "print(\"Cow says:\", cow.sound())  \n",
    "print(\"Sheep says:\", sheep.sound()) "
   ]
  },
  {
   "cell_type": "code",
   "execution_count": 18,
   "id": "34f99290-f519-4345-8189-a91b3bb49a89",
   "metadata": {},
   "outputs": [
    {
     "name": "stdout",
     "output_type": "stream",
     "text": [
      "Title: To Kill a Mockingbird\n",
      "Author: Harper Lee\n",
      "Year Published: 1960\n",
      "\n",
      "Title: 1984\n",
      "Author: George Orwell\n",
      "Year Published: 1949\n"
     ]
    }
   ],
   "source": [
    "# 17. Create a class Book with attributes title, author, and year_published. Add a method get_book_info() that \n",
    "  #returns a formatted string with the book's details.\n",
    "\n",
    "class Book:\n",
    "    def __init__(self, title, author, year_published):\n",
    "        self.title = title\n",
    "        self.author = author\n",
    "        self.year_published = year_published\n",
    "\n",
    "    def get_book_info(self):\n",
    "        return f\"Title: {self.title}\\nAuthor: {self.author}\\nYear Published: {self.year_published}\"\n",
    "\n",
    "book1 = Book(\"To Kill a Mockingbird\", \"Harper Lee\", 1960)\n",
    "book2 = Book(\"1984\", \"George Orwell\", 1949)\n",
    "\n",
    "print(book1.get_book_info())\n",
    "print(\"\")\n",
    "print(book2.get_book_info())\n"
   ]
  },
  {
   "cell_type": "code",
   "execution_count": 19,
   "id": "3d0314d6-4e00-4d6d-aead-7ae73c4c9111",
   "metadata": {},
   "outputs": [
    {
     "name": "stdout",
     "output_type": "stream",
     "text": [
      "House Information:\n",
      " Address: 123 Main St\n",
      "Price: $300000\n",
      "\n",
      "Mansion Information:\n",
      " Address: 456 Luxury Rd\n",
      "Price: $5000000\n",
      "Number of Rooms: 10\n"
     ]
    }
   ],
   "source": [
    "# 18. Create a class House with attributes address and price. Create a derived class Mansion that adds an attribute number_of_rooms.\n",
    "\n",
    "class House:\n",
    "    def __init__(self, address, price):\n",
    "        self.address = address\n",
    "        self.price = price\n",
    "\n",
    "    def get_info(self):\n",
    "        return f\"Address: {self.address}\\nPrice: ${self.price}\"\n",
    "\n",
    "class Mansion(House):\n",
    "    def __init__(self, address, price, number_of_rooms):\n",
    "        super().__init__(address, price)\n",
    "        self.number_of_rooms = number_of_rooms\n",
    "\n",
    "    def get_mansion_info(self):\n",
    "        return f\"{self.get_info()}\\nNumber of Rooms: {self.number_of_rooms}\"\n",
    "\n",
    "house = House(\"123 Main St\", 300000)\n",
    "mansion = Mansion(\"456 Luxury Rd\", 5000000, 10)\n",
    "\n",
    "print(\"House Information:\\n\", house.get_info())  \n",
    "\n",
    "print(\"\\nMansion Information:\\n\", mansion.get_mansion_info())"
   ]
  },
  {
   "cell_type": "code",
   "execution_count": null,
   "id": "56ef7e8c-1ee9-41fc-9659-5c11b78bd822",
   "metadata": {},
   "outputs": [],
   "source": []
  }
 ],
 "metadata": {
  "kernelspec": {
   "display_name": "Python 3 (ipykernel)",
   "language": "python",
   "name": "python3"
  },
  "language_info": {
   "codemirror_mode": {
    "name": "ipython",
    "version": 3
   },
   "file_extension": ".py",
   "mimetype": "text/x-python",
   "name": "python",
   "nbconvert_exporter": "python",
   "pygments_lexer": "ipython3",
   "version": "3.13.1"
  }
 },
 "nbformat": 4,
 "nbformat_minor": 5
}
